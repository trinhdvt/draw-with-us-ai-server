{
 "cells": [
  {
   "cell_type": "code",
   "execution_count": 1,
   "id": "b5d040a9",
   "metadata": {
    "_kg_hide-output": true,
    "collapsed": false,
    "execution": {
     "iopub.execute_input": "2022-07-05T14:59:17.843832Z",
     "iopub.status.busy": "2022-07-05T14:59:17.842990Z",
     "iopub.status.idle": "2022-07-05T14:59:48.340051Z",
     "shell.execute_reply": "2022-07-05T14:59:48.339081Z"
    },
    "jupyter": {
     "outputs_hidden": false
    },
    "papermill": {
     "duration": 30.505976,
     "end_time": "2022-07-05T14:59:48.342401",
     "exception": false,
     "start_time": "2022-07-05T14:59:17.836425",
     "status": "completed"
    },
    "pycharm": {
     "is_executing": true,
     "name": "#%%\n"
    },
    "tags": []
   },
   "outputs": [
    {
     "name": "stdout",
     "output_type": "stream",
     "text": [
      "\u001b[33mWARNING: Running pip as the 'root' user can result in broken permissions and conflicting behaviour with the system package manager. It is recommended to use a virtual environment instead: https://pip.pypa.io/warnings/venv\u001b[0m\u001b[33m\r\n",
      "\u001b[0mDownloading...\r\n",
      "From: https://drive.google.com/uc?id=1TF1muxFC0sEYMHNW89tr_skk3oUiK4y_\r\n",
      "To: /kaggle/working/mobile_net_256_large.pth\r\n",
      "100%|██████████████████████████████████████| 10.9M/10.9M [00:00<00:00, 19.4MB/s]\r\n"
     ]
    }
   ],
   "source": [
    "!pip3 install -U -q gdown\n",
    "!gdown 1TF1muxFC0sEYMHNW89tr_skk3oUiK4y_"
   ]
  },
  {
   "cell_type": "markdown",
   "id": "5d64789f",
   "metadata": {
    "papermill": {
     "duration": 0.004147,
     "end_time": "2022-07-05T14:59:48.351570",
     "exception": false,
     "start_time": "2022-07-05T14:59:48.347423",
     "status": "completed"
    },
    "tags": []
   },
   "source": [
    "## Setup"
   ]
  },
  {
   "cell_type": "code",
   "execution_count": 2,
   "id": "55a6bda9",
   "metadata": {
    "execution": {
     "iopub.execute_input": "2022-07-05T14:59:48.361877Z",
     "iopub.status.busy": "2022-07-05T14:59:48.361569Z",
     "iopub.status.idle": "2022-07-05T14:59:50.867528Z",
     "shell.execute_reply": "2022-07-05T14:59:50.866701Z"
    },
    "papermill": {
     "duration": 2.513378,
     "end_time": "2022-07-05T14:59:50.869643",
     "exception": false,
     "start_time": "2022-07-05T14:59:48.356265",
     "status": "completed"
    },
    "tags": []
   },
   "outputs": [],
   "source": [
    "import json\n",
    "import os\n",
    "import random\n",
    "from typing import Dict\n",
    "from warnings import filterwarnings\n",
    "\n",
    "import matplotlib.pyplot as plt\n",
    "import numpy as np\n",
    "import pandas as pd\n",
    "import seaborn as sns\n",
    "import torch\n",
    "import torch.nn as nn\n",
    "import torchvision\n",
    "from PIL import Image, ImageDraw\n",
    "from torch.optim import Adam\n",
    "from torch.optim.lr_scheduler import ReduceLROnPlateau\n",
    "from torch.utils.data import DataLoader, ConcatDataset, Dataset\n",
    "from torchvision import transforms\n",
    "from tqdm.auto import tqdm\n",
    "\n",
    "filterwarnings(\"ignore\", category=DeprecationWarning)\n",
    "filterwarnings(\"ignore\", category=FutureWarning)\n",
    "filterwarnings(\"ignore\", category=UserWarning)\n",
    "sns.set_theme()"
   ]
  },
  {
   "cell_type": "code",
   "execution_count": 3,
   "id": "ef15274b",
   "metadata": {
    "execution": {
     "iopub.execute_input": "2022-07-05T14:59:50.880651Z",
     "iopub.status.busy": "2022-07-05T14:59:50.880189Z",
     "iopub.status.idle": "2022-07-05T14:59:50.887824Z",
     "shell.execute_reply": "2022-07-05T14:59:50.887101Z"
    },
    "papermill": {
     "duration": 0.014606,
     "end_time": "2022-07-05T14:59:50.889457",
     "exception": false,
     "start_time": "2022-07-05T14:59:50.874851",
     "status": "completed"
    },
    "tags": []
   },
   "outputs": [],
   "source": [
    "def seed_everything(seed: int):\n",
    "    random.seed(seed)\n",
    "    os.environ['PYTHONHASHSEED'] = str(seed)\n",
    "    np.random.seed(seed)\n",
    "    torch.manual_seed(seed)\n",
    "    torch.cuda.manual_seed(seed)\n",
    "    torch.backends.cudnn.deterministic = True\n",
    "    torch.backends.cudnn.benchmark = True\n",
    "\n",
    "\n",
    "seed_everything(20212022)"
   ]
  },
  {
   "cell_type": "code",
   "execution_count": 4,
   "id": "395110d6",
   "metadata": {
    "collapsed": false,
    "execution": {
     "iopub.execute_input": "2022-07-05T14:59:50.898831Z",
     "iopub.status.busy": "2022-07-05T14:59:50.898552Z",
     "iopub.status.idle": "2022-07-05T14:59:51.807283Z",
     "shell.execute_reply": "2022-07-05T14:59:51.806487Z"
    },
    "jupyter": {
     "outputs_hidden": false
    },
    "papermill": {
     "duration": 0.915682,
     "end_time": "2022-07-05T14:59:51.809358",
     "exception": false,
     "start_time": "2022-07-05T14:59:50.893676",
     "status": "completed"
    },
    "pycharm": {
     "name": "#%%\n"
    },
    "tags": []
   },
   "outputs": [
    {
     "name": "stdout",
     "output_type": "stream",
     "text": [
      "test_files :  ['../input/shuffle-csvs/train_k99.csv.gz']\n"
     ]
    }
   ],
   "source": [
    "test_files = ['../input/shuffle-csvs/train_k99.csv.gz']\n",
    "print(\"test_files : \", test_files)\n",
    "\n",
    "def encode_labels():\n",
    "    sample_file = \"../input/shuffle-csvs/train_k0.csv.gz\"\n",
    "    sample_df = pd.read_csv(sample_file, usecols=['word', 'y']).drop_duplicates('word', keep='first')\n",
    "    label2idx = {x: y for x, y in zip(sample_df['word'], sample_df['y'])}\n",
    "    idx2label = {v: k for k, v in label2idx.items()}\n",
    "    with open('classes.json', 'w') as f:\n",
    "        dump_data = {\"en_dict\": label2idx, \"dec_dict\": idx2label}\n",
    "        json.dump(dump_data, f, ensure_ascii=False)\n",
    "\n",
    "    return label2idx, idx2label\n",
    "\n",
    "\n",
    "en_dict, dec_dict = encode_labels()"
   ]
  },
  {
   "cell_type": "markdown",
   "id": "baac7e85",
   "metadata": {
    "papermill": {
     "duration": 0.004255,
     "end_time": "2022-07-05T14:59:51.818146",
     "exception": false,
     "start_time": "2022-07-05T14:59:51.813891",
     "status": "completed"
    },
    "tags": []
   },
   "source": [
    "## Custom Dataset"
   ]
  },
  {
   "cell_type": "code",
   "execution_count": 5,
   "id": "d34eaa9c",
   "metadata": {
    "collapsed": false,
    "execution": {
     "iopub.execute_input": "2022-07-05T14:59:51.828669Z",
     "iopub.status.busy": "2022-07-05T14:59:51.827942Z",
     "iopub.status.idle": "2022-07-05T14:59:51.838395Z",
     "shell.execute_reply": "2022-07-05T14:59:51.837678Z"
    },
    "jupyter": {
     "outputs_hidden": false
    },
    "papermill": {
     "duration": 0.017824,
     "end_time": "2022-07-05T14:59:51.840199",
     "exception": false,
     "start_time": "2022-07-05T14:59:51.822375",
     "status": "completed"
    },
    "pycharm": {
     "name": "#%%\n"
    },
    "tags": []
   },
   "outputs": [],
   "source": [
    "class DoodleDataset(Dataset):\n",
    "    def __init__(self,\n",
    "                 filepath: str,\n",
    "                 nrows=None,\n",
    "                 skiprows=None,\n",
    "                 size: int = 256,\n",
    "                 transforms=None):\n",
    "\n",
    "        self.size = size\n",
    "        self.transforms = transforms\n",
    "        self.data = pd.read_csv(filepath, usecols=['drawing', 'word', 'y'], nrows=nrows, skiprows=skiprows)\n",
    "\n",
    "    @staticmethod\n",
    "    def _draw(strokes, size, lw=6):\n",
    "        BASE_SIZE = 256\n",
    "        pil_img = Image.new('P', (BASE_SIZE, BASE_SIZE), color=255)\n",
    "        img_draw = ImageDraw.Draw(pil_img)\n",
    "\n",
    "        for stroke in strokes:\n",
    "            for i in range(len(stroke[0]) - 1):\n",
    "                img_draw.line((stroke[0][i], stroke[1][i], stroke[0][i + 1], stroke[1][i + 1]),\n",
    "                              fill=0,\n",
    "                              width=lw)\n",
    "        return pil_img\n",
    "\n",
    "    def __len__(self):\n",
    "        return len(self.data)\n",
    "\n",
    "    def __getitem__(self, idx):\n",
    "        stroke = json.loads(self.data['drawing'][idx])\n",
    "        img = self._draw(stroke, self.size)\n",
    "\n",
    "        if self.transforms:\n",
    "            img = self.transforms(img)\n",
    "\n",
    "        return img, self.data['y'][idx]"
   ]
  },
  {
   "cell_type": "markdown",
   "id": "8066543b",
   "metadata": {
    "papermill": {
     "duration": 0.004285,
     "end_time": "2022-07-05T14:59:51.848748",
     "exception": false,
     "start_time": "2022-07-05T14:59:51.844463",
     "status": "completed"
    },
    "tags": []
   },
   "source": [
    "## Model"
   ]
  },
  {
   "cell_type": "code",
   "execution_count": 6,
   "id": "15079f89",
   "metadata": {
    "collapsed": false,
    "execution": {
     "iopub.execute_input": "2022-07-05T14:59:51.858240Z",
     "iopub.status.busy": "2022-07-05T14:59:51.857967Z",
     "iopub.status.idle": "2022-07-05T14:59:51.864264Z",
     "shell.execute_reply": "2022-07-05T14:59:51.863541Z"
    },
    "jupyter": {
     "outputs_hidden": false
    },
    "papermill": {
     "duration": 0.013019,
     "end_time": "2022-07-05T14:59:51.866029",
     "exception": false,
     "start_time": "2022-07-05T14:59:51.853010",
     "status": "completed"
    },
    "pycharm": {
     "name": "#%%\n"
    },
    "tags": []
   },
   "outputs": [],
   "source": [
    "class DrawClassifier(nn.Module):\n",
    "    def __init__(self, num_classes: int):\n",
    "        super().__init__()\n",
    "\n",
    "        self.net = torchvision.models.mobilenet_v2(pretrained=True)\n",
    "        self.net.classifier = nn.Sequential(\n",
    "            nn.Dropout(0.2),\n",
    "            nn.Linear(1280, num_classes)\n",
    "        )\n",
    "\n",
    "    def forward(self, x):\n",
    "        return self.net(x)"
   ]
  },
  {
   "cell_type": "markdown",
   "id": "3ad43634",
   "metadata": {
    "papermill": {
     "duration": 0.004257,
     "end_time": "2022-07-05T14:59:51.874749",
     "exception": false,
     "start_time": "2022-07-05T14:59:51.870492",
     "status": "completed"
    },
    "tags": []
   },
   "source": [
    "## Data preparation"
   ]
  },
  {
   "cell_type": "code",
   "execution_count": 7,
   "id": "3b53d440",
   "metadata": {
    "collapsed": false,
    "execution": {
     "iopub.execute_input": "2022-07-05T14:59:51.884369Z",
     "iopub.status.busy": "2022-07-05T14:59:51.884118Z",
     "iopub.status.idle": "2022-07-05T14:59:52.984427Z",
     "shell.execute_reply": "2022-07-05T14:59:52.982676Z"
    },
    "jupyter": {
     "outputs_hidden": false
    },
    "papermill": {
     "duration": 1.107237,
     "end_time": "2022-07-05T14:59:52.986266",
     "exception": false,
     "start_time": "2022-07-05T14:59:51.879029",
     "status": "completed"
    },
    "pycharm": {
     "name": "#%%\n"
    },
    "tags": []
   },
   "outputs": [
    {
     "name": "stdout",
     "output_type": "stream",
     "text": [
      "Test set:  102042\n"
     ]
    }
   ],
   "source": [
    "data_transforms = transforms.Compose([\n",
    "    transforms.Grayscale(num_output_channels=3),\n",
    "    transforms.ToTensor(),\n",
    "    transforms.Normalize(mean=[0.485, 0.456, 0.406], std=[0.229, 0.224, 0.225])\n",
    "])\n",
    "\n",
    "IN_SIZE = 224\n",
    "\n",
    "test_ds = ConcatDataset([\n",
    "    DoodleDataset(fn, size=IN_SIZE, transforms=data_transforms)\n",
    "    for fn in test_files\n",
    "])\n",
    "\n",
    "BATCH_SIZE = 256\n",
    "\n",
    "test_loader = DataLoader(test_ds, batch_size=BATCH_SIZE, shuffle=False)\n",
    "print(\"Test set: \", len(test_ds))"
   ]
  },
  {
   "cell_type": "code",
   "execution_count": 8,
   "id": "c2264ff8",
   "metadata": {
    "execution": {
     "iopub.execute_input": "2022-07-05T14:59:52.997310Z",
     "iopub.status.busy": "2022-07-05T14:59:52.996864Z",
     "iopub.status.idle": "2022-07-05T14:59:56.306449Z",
     "shell.execute_reply": "2022-07-05T14:59:56.305614Z"
    },
    "papermill": {
     "duration": 3.317877,
     "end_time": "2022-07-05T14:59:56.308864",
     "exception": false,
     "start_time": "2022-07-05T14:59:52.990987",
     "status": "completed"
    },
    "tags": []
   },
   "outputs": [
    {
     "name": "stderr",
     "output_type": "stream",
     "text": [
      "Downloading: \"https://download.pytorch.org/models/mobilenet_v2-b0353104.pth\" to /root/.cache/torch/hub/checkpoints/mobilenet_v2-b0353104.pth\n"
     ]
    },
    {
     "data": {
      "application/vnd.jupyter.widget-view+json": {
       "model_id": "78f133a455054f4989ea75d5222ec8b3",
       "version_major": 2,
       "version_minor": 0
      },
      "text/plain": [
       "  0%|          | 0.00/13.6M [00:00<?, ?B/s]"
      ]
     },
     "metadata": {},
     "output_type": "display_data"
    }
   ],
   "source": [
    "device = torch.device(\"cuda:0\" if torch.cuda.is_available() else \"cpu\")\n",
    "model_path = \"./mobile_net_256_large.pth\"\n",
    "n_classes = len(en_dict.keys())\n",
    "model = DrawClassifier(n_classes)\n",
    "model.load_state_dict(torch.load(model_path, map_location=device))\n",
    "model = model.to(device)"
   ]
  },
  {
   "cell_type": "code",
   "execution_count": 9,
   "id": "ffa1b743",
   "metadata": {
    "execution": {
     "iopub.execute_input": "2022-07-05T14:59:56.319636Z",
     "iopub.status.busy": "2022-07-05T14:59:56.319342Z",
     "iopub.status.idle": "2022-07-05T14:59:56.458038Z",
     "shell.execute_reply": "2022-07-05T14:59:56.457206Z"
    },
    "papermill": {
     "duration": 0.146272,
     "end_time": "2022-07-05T14:59:56.460171",
     "exception": false,
     "start_time": "2022-07-05T14:59:56.313899",
     "status": "completed"
    },
    "tags": []
   },
   "outputs": [],
   "source": [
    "from sklearn.metrics import classification_report\n",
    "\n",
    "def test_model(model, test_loader):\n",
    "    model.eval()\n",
    "\n",
    "    test_correct = 0\n",
    "    total = 0\n",
    "    stream = tqdm(test_loader)\n",
    "    rs = {\n",
    "        \"y_true\":[],\n",
    "        \"y_pred\":[]\n",
    "    }\n",
    "\n",
    "    with torch.no_grad():\n",
    "        for inputs, labels in stream:\n",
    "            inputs = inputs.to(device)\n",
    "            labels = labels.to(device)\n",
    "\n",
    "            outputs = model(inputs)\n",
    "            _, preds = torch.max(outputs, 1)\n",
    "            test_correct += torch.sum(preds == labels.data)\n",
    "\n",
    "            rs['y_true'].extend(labels.data.cpu().detach().numpy())\n",
    "            rs['y_pred'].extend(preds.cpu().detach().numpy())\n",
    "            total += labels.size(0)\n",
    "\n",
    "        print(\"Test accuracy: {:.4f}\".format(test_correct.double() / total))\n",
    "        return rs"
   ]
  },
  {
   "cell_type": "code",
   "execution_count": 10,
   "id": "568b7614",
   "metadata": {
    "execution": {
     "iopub.execute_input": "2022-07-05T14:59:56.470802Z",
     "iopub.status.busy": "2022-07-05T14:59:56.470507Z",
     "iopub.status.idle": "2022-07-05T15:05:27.478084Z",
     "shell.execute_reply": "2022-07-05T15:05:27.477240Z"
    },
    "papermill": {
     "duration": 331.015108,
     "end_time": "2022-07-05T15:05:27.480105",
     "exception": false,
     "start_time": "2022-07-05T14:59:56.464997",
     "status": "completed"
    },
    "tags": []
   },
   "outputs": [
    {
     "data": {
      "application/vnd.jupyter.widget-view+json": {
       "model_id": "4b8ac25802bb4a40927745f0539bbfd6",
       "version_major": 2,
       "version_minor": 0
      },
      "text/plain": [
       "  0%|          | 0/399 [00:00<?, ?it/s]"
      ]
     },
     "metadata": {},
     "output_type": "display_data"
    },
    {
     "name": "stdout",
     "output_type": "stream",
     "text": [
      "Test accuracy: 0.7739\n"
     ]
    }
   ],
   "source": [
    "test_summary = test_model(model, test_loader)\n",
    "y_true = test_summary['y_true']\n",
    "y_pred = test_summary['y_pred']\n",
    "sorted_en_dict = {k: en_dict[k] for k in sorted(en_dict, key=en_dict.get)}\n",
    "target_names = list(sorted_en_dict.keys())\n",
    "\n",
    "clf_report = classification_report(y_true, y_pred, output_dict=True)"
   ]
  },
  {
   "cell_type": "code",
   "execution_count": 11,
   "id": "b476021c",
   "metadata": {
    "execution": {
     "iopub.execute_input": "2022-07-05T15:05:27.491482Z",
     "iopub.status.busy": "2022-07-05T15:05:27.490980Z",
     "iopub.status.idle": "2022-07-05T15:05:27.520547Z",
     "shell.execute_reply": "2022-07-05T15:05:27.519825Z"
    },
    "papermill": {
     "duration": 0.037071,
     "end_time": "2022-07-05T15:05:27.522186",
     "exception": false,
     "start_time": "2022-07-05T15:05:27.485115",
     "status": "completed"
    },
    "tags": []
   },
   "outputs": [
    {
     "data": {
      "text/html": [
       "<div>\n",
       "<style scoped>\n",
       "    .dataframe tbody tr th:only-of-type {\n",
       "        vertical-align: middle;\n",
       "    }\n",
       "\n",
       "    .dataframe tbody tr th {\n",
       "        vertical-align: top;\n",
       "    }\n",
       "\n",
       "    .dataframe thead th {\n",
       "        text-align: right;\n",
       "    }\n",
       "</style>\n",
       "<table border=\"1\" class=\"dataframe\">\n",
       "  <thead>\n",
       "    <tr style=\"text-align: right;\">\n",
       "      <th></th>\n",
       "      <th>macro avg</th>\n",
       "      <th>accuracy</th>\n",
       "      <th>weighted avg</th>\n",
       "    </tr>\n",
       "  </thead>\n",
       "  <tbody>\n",
       "    <tr>\n",
       "      <th>precision</th>\n",
       "      <td>0.779544</td>\n",
       "      <td>0.773868</td>\n",
       "      <td>0.779706</td>\n",
       "    </tr>\n",
       "    <tr>\n",
       "      <th>recall</th>\n",
       "      <td>0.774303</td>\n",
       "      <td>0.773868</td>\n",
       "      <td>0.773868</td>\n",
       "    </tr>\n",
       "    <tr>\n",
       "      <th>f1-score</th>\n",
       "      <td>0.774710</td>\n",
       "      <td>0.773868</td>\n",
       "      <td>0.774565</td>\n",
       "    </tr>\n",
       "    <tr>\n",
       "      <th>support</th>\n",
       "      <td>102042.000000</td>\n",
       "      <td>0.773868</td>\n",
       "      <td>102042.000000</td>\n",
       "    </tr>\n",
       "  </tbody>\n",
       "</table>\n",
       "</div>"
      ],
      "text/plain": [
       "               macro avg  accuracy   weighted avg\n",
       "precision       0.779544  0.773868       0.779706\n",
       "recall          0.774303  0.773868       0.773868\n",
       "f1-score        0.774710  0.773868       0.774565\n",
       "support    102042.000000  0.773868  102042.000000"
      ]
     },
     "execution_count": 11,
     "metadata": {},
     "output_type": "execute_result"
    }
   ],
   "source": [
    "df = pd.DataFrame.from_dict(clf_report)\n",
    "final_report = df.filter(['macro avg', 'accuracy', 'weighted avg'])\n",
    "final_report"
   ]
  }
 ],
 "metadata": {
  "kernelspec": {
   "display_name": "Python 3",
   "language": "python",
   "name": "python3"
  },
  "language_info": {
   "codemirror_mode": {
    "name": "ipython",
    "version": 3
   },
   "file_extension": ".py",
   "mimetype": "text/x-python",
   "name": "python",
   "nbconvert_exporter": "python",
   "pygments_lexer": "ipython3",
   "version": "3.7.12"
  },
  "papermill": {
   "default_parameters": {},
   "duration": 379.13788,
   "end_time": "2022-07-05T15:05:28.948967",
   "environment_variables": {},
   "exception": null,
   "input_path": "__notebook__.ipynb",
   "output_path": "__notebook__.ipynb",
   "parameters": {},
   "start_time": "2022-07-05T14:59:09.811087",
   "version": "2.3.4"
  },
  "widgets": {
   "application/vnd.jupyter.widget-state+json": {
    "state": {
     "17dfbdddc8b5453786d845d62bfc65f9": {
      "model_module": "@jupyter-widgets/base",
      "model_module_version": "1.2.0",
      "model_name": "LayoutModel",
      "state": {
       "_model_module": "@jupyter-widgets/base",
       "_model_module_version": "1.2.0",
       "_model_name": "LayoutModel",
       "_view_count": null,
       "_view_module": "@jupyter-widgets/base",
       "_view_module_version": "1.2.0",
       "_view_name": "LayoutView",
       "align_content": null,
       "align_items": null,
       "align_self": null,
       "border": null,
       "bottom": null,
       "display": null,
       "flex": null,
       "flex_flow": null,
       "grid_area": null,
       "grid_auto_columns": null,
       "grid_auto_flow": null,
       "grid_auto_rows": null,
       "grid_column": null,
       "grid_gap": null,
       "grid_row": null,
       "grid_template_areas": null,
       "grid_template_columns": null,
       "grid_template_rows": null,
       "height": null,
       "justify_content": null,
       "justify_items": null,
       "left": null,
       "margin": null,
       "max_height": null,
       "max_width": null,
       "min_height": null,
       "min_width": null,
       "object_fit": null,
       "object_position": null,
       "order": null,
       "overflow": null,
       "overflow_x": null,
       "overflow_y": null,
       "padding": null,
       "right": null,
       "top": null,
       "visibility": null,
       "width": null
      }
     },
     "198f939ee9804da38ecf52106396f5ff": {
      "model_module": "@jupyter-widgets/controls",
      "model_module_version": "1.5.0",
      "model_name": "HTMLModel",
      "state": {
       "_dom_classes": [],
       "_model_module": "@jupyter-widgets/controls",
       "_model_module_version": "1.5.0",
       "_model_name": "HTMLModel",
       "_view_count": null,
       "_view_module": "@jupyter-widgets/controls",
       "_view_module_version": "1.5.0",
       "_view_name": "HTMLView",
       "description": "",
       "description_tooltip": null,
       "layout": "IPY_MODEL_e5acb6c8135f4073ab0b124f3504dedf",
       "placeholder": "​",
       "style": "IPY_MODEL_577831309b93439b9fb97c6e7258c23e",
       "value": " 13.6M/13.6M [00:00&lt;00:00, 8.35MB/s]"
      }
     },
     "1ae3da08dde740928dd9541298943784": {
      "model_module": "@jupyter-widgets/base",
      "model_module_version": "1.2.0",
      "model_name": "LayoutModel",
      "state": {
       "_model_module": "@jupyter-widgets/base",
       "_model_module_version": "1.2.0",
       "_model_name": "LayoutModel",
       "_view_count": null,
       "_view_module": "@jupyter-widgets/base",
       "_view_module_version": "1.2.0",
       "_view_name": "LayoutView",
       "align_content": null,
       "align_items": null,
       "align_self": null,
       "border": null,
       "bottom": null,
       "display": null,
       "flex": null,
       "flex_flow": null,
       "grid_area": null,
       "grid_auto_columns": null,
       "grid_auto_flow": null,
       "grid_auto_rows": null,
       "grid_column": null,
       "grid_gap": null,
       "grid_row": null,
       "grid_template_areas": null,
       "grid_template_columns": null,
       "grid_template_rows": null,
       "height": null,
       "justify_content": null,
       "justify_items": null,
       "left": null,
       "margin": null,
       "max_height": null,
       "max_width": null,
       "min_height": null,
       "min_width": null,
       "object_fit": null,
       "object_position": null,
       "order": null,
       "overflow": null,
       "overflow_x": null,
       "overflow_y": null,
       "padding": null,
       "right": null,
       "top": null,
       "visibility": null,
       "width": null
      }
     },
     "1eb757d8240e45eeb95e6f277a0ef24a": {
      "model_module": "@jupyter-widgets/base",
      "model_module_version": "1.2.0",
      "model_name": "LayoutModel",
      "state": {
       "_model_module": "@jupyter-widgets/base",
       "_model_module_version": "1.2.0",
       "_model_name": "LayoutModel",
       "_view_count": null,
       "_view_module": "@jupyter-widgets/base",
       "_view_module_version": "1.2.0",
       "_view_name": "LayoutView",
       "align_content": null,
       "align_items": null,
       "align_self": null,
       "border": null,
       "bottom": null,
       "display": null,
       "flex": null,
       "flex_flow": null,
       "grid_area": null,
       "grid_auto_columns": null,
       "grid_auto_flow": null,
       "grid_auto_rows": null,
       "grid_column": null,
       "grid_gap": null,
       "grid_row": null,
       "grid_template_areas": null,
       "grid_template_columns": null,
       "grid_template_rows": null,
       "height": null,
       "justify_content": null,
       "justify_items": null,
       "left": null,
       "margin": null,
       "max_height": null,
       "max_width": null,
       "min_height": null,
       "min_width": null,
       "object_fit": null,
       "object_position": null,
       "order": null,
       "overflow": null,
       "overflow_x": null,
       "overflow_y": null,
       "padding": null,
       "right": null,
       "top": null,
       "visibility": null,
       "width": null
      }
     },
     "1ebd375af7e14536bddfa07983b31d55": {
      "model_module": "@jupyter-widgets/controls",
      "model_module_version": "1.5.0",
      "model_name": "DescriptionStyleModel",
      "state": {
       "_model_module": "@jupyter-widgets/controls",
       "_model_module_version": "1.5.0",
       "_model_name": "DescriptionStyleModel",
       "_view_count": null,
       "_view_module": "@jupyter-widgets/base",
       "_view_module_version": "1.2.0",
       "_view_name": "StyleView",
       "description_width": ""
      }
     },
     "2a4ccef4f6a3493a9edf01b793128a97": {
      "model_module": "@jupyter-widgets/controls",
      "model_module_version": "1.5.0",
      "model_name": "DescriptionStyleModel",
      "state": {
       "_model_module": "@jupyter-widgets/controls",
       "_model_module_version": "1.5.0",
       "_model_name": "DescriptionStyleModel",
       "_view_count": null,
       "_view_module": "@jupyter-widgets/base",
       "_view_module_version": "1.2.0",
       "_view_name": "StyleView",
       "description_width": ""
      }
     },
     "2d6509ee75744f44a16d70056762775d": {
      "model_module": "@jupyter-widgets/controls",
      "model_module_version": "1.5.0",
      "model_name": "ProgressStyleModel",
      "state": {
       "_model_module": "@jupyter-widgets/controls",
       "_model_module_version": "1.5.0",
       "_model_name": "ProgressStyleModel",
       "_view_count": null,
       "_view_module": "@jupyter-widgets/base",
       "_view_module_version": "1.2.0",
       "_view_name": "StyleView",
       "bar_color": null,
       "description_width": ""
      }
     },
     "4b8ac25802bb4a40927745f0539bbfd6": {
      "model_module": "@jupyter-widgets/controls",
      "model_module_version": "1.5.0",
      "model_name": "HBoxModel",
      "state": {
       "_dom_classes": [],
       "_model_module": "@jupyter-widgets/controls",
       "_model_module_version": "1.5.0",
       "_model_name": "HBoxModel",
       "_view_count": null,
       "_view_module": "@jupyter-widgets/controls",
       "_view_module_version": "1.5.0",
       "_view_name": "HBoxView",
       "box_style": "",
       "children": [
        "IPY_MODEL_9a51826aa8554d25ba0d99e0181422ee",
        "IPY_MODEL_67b90758178e49b9999cf7fca9ce76e1",
        "IPY_MODEL_97fc7e2c5f024c0286e69712b5360a2d"
       ],
       "layout": "IPY_MODEL_6d75688aa53a414dae2d9e1fa96aa43b"
      }
     },
     "577831309b93439b9fb97c6e7258c23e": {
      "model_module": "@jupyter-widgets/controls",
      "model_module_version": "1.5.0",
      "model_name": "DescriptionStyleModel",
      "state": {
       "_model_module": "@jupyter-widgets/controls",
       "_model_module_version": "1.5.0",
       "_model_name": "DescriptionStyleModel",
       "_view_count": null,
       "_view_module": "@jupyter-widgets/base",
       "_view_module_version": "1.2.0",
       "_view_name": "StyleView",
       "description_width": ""
      }
     },
     "67b90758178e49b9999cf7fca9ce76e1": {
      "model_module": "@jupyter-widgets/controls",
      "model_module_version": "1.5.0",
      "model_name": "FloatProgressModel",
      "state": {
       "_dom_classes": [],
       "_model_module": "@jupyter-widgets/controls",
       "_model_module_version": "1.5.0",
       "_model_name": "FloatProgressModel",
       "_view_count": null,
       "_view_module": "@jupyter-widgets/controls",
       "_view_module_version": "1.5.0",
       "_view_name": "ProgressView",
       "bar_style": "success",
       "description": "",
       "description_tooltip": null,
       "layout": "IPY_MODEL_9671598d2041419cb97875213fd781be",
       "max": 399.0,
       "min": 0.0,
       "orientation": "horizontal",
       "style": "IPY_MODEL_2d6509ee75744f44a16d70056762775d",
       "value": 399.0
      }
     },
     "6d75688aa53a414dae2d9e1fa96aa43b": {
      "model_module": "@jupyter-widgets/base",
      "model_module_version": "1.2.0",
      "model_name": "LayoutModel",
      "state": {
       "_model_module": "@jupyter-widgets/base",
       "_model_module_version": "1.2.0",
       "_model_name": "LayoutModel",
       "_view_count": null,
       "_view_module": "@jupyter-widgets/base",
       "_view_module_version": "1.2.0",
       "_view_name": "LayoutView",
       "align_content": null,
       "align_items": null,
       "align_self": null,
       "border": null,
       "bottom": null,
       "display": null,
       "flex": null,
       "flex_flow": null,
       "grid_area": null,
       "grid_auto_columns": null,
       "grid_auto_flow": null,
       "grid_auto_rows": null,
       "grid_column": null,
       "grid_gap": null,
       "grid_row": null,
       "grid_template_areas": null,
       "grid_template_columns": null,
       "grid_template_rows": null,
       "height": null,
       "justify_content": null,
       "justify_items": null,
       "left": null,
       "margin": null,
       "max_height": null,
       "max_width": null,
       "min_height": null,
       "min_width": null,
       "object_fit": null,
       "object_position": null,
       "order": null,
       "overflow": null,
       "overflow_x": null,
       "overflow_y": null,
       "padding": null,
       "right": null,
       "top": null,
       "visibility": null,
       "width": null
      }
     },
     "7241ec3aaf0549e49c3d54540b81f901": {
      "model_module": "@jupyter-widgets/base",
      "model_module_version": "1.2.0",
      "model_name": "LayoutModel",
      "state": {
       "_model_module": "@jupyter-widgets/base",
       "_model_module_version": "1.2.0",
       "_model_name": "LayoutModel",
       "_view_count": null,
       "_view_module": "@jupyter-widgets/base",
       "_view_module_version": "1.2.0",
       "_view_name": "LayoutView",
       "align_content": null,
       "align_items": null,
       "align_self": null,
       "border": null,
       "bottom": null,
       "display": null,
       "flex": null,
       "flex_flow": null,
       "grid_area": null,
       "grid_auto_columns": null,
       "grid_auto_flow": null,
       "grid_auto_rows": null,
       "grid_column": null,
       "grid_gap": null,
       "grid_row": null,
       "grid_template_areas": null,
       "grid_template_columns": null,
       "grid_template_rows": null,
       "height": null,
       "justify_content": null,
       "justify_items": null,
       "left": null,
       "margin": null,
       "max_height": null,
       "max_width": null,
       "min_height": null,
       "min_width": null,
       "object_fit": null,
       "object_position": null,
       "order": null,
       "overflow": null,
       "overflow_x": null,
       "overflow_y": null,
       "padding": null,
       "right": null,
       "top": null,
       "visibility": null,
       "width": null
      }
     },
     "78f133a455054f4989ea75d5222ec8b3": {
      "model_module": "@jupyter-widgets/controls",
      "model_module_version": "1.5.0",
      "model_name": "HBoxModel",
      "state": {
       "_dom_classes": [],
       "_model_module": "@jupyter-widgets/controls",
       "_model_module_version": "1.5.0",
       "_model_name": "HBoxModel",
       "_view_count": null,
       "_view_module": "@jupyter-widgets/controls",
       "_view_module_version": "1.5.0",
       "_view_name": "HBoxView",
       "box_style": "",
       "children": [
        "IPY_MODEL_b11eaf94fee04105b2ee424ce1e6eb3a",
        "IPY_MODEL_b41fc406d88a4d76bb5597d06d6d68ed",
        "IPY_MODEL_198f939ee9804da38ecf52106396f5ff"
       ],
       "layout": "IPY_MODEL_1eb757d8240e45eeb95e6f277a0ef24a"
      }
     },
     "9322f378f9c94e17bab13b7322e8f618": {
      "model_module": "@jupyter-widgets/controls",
      "model_module_version": "1.5.0",
      "model_name": "ProgressStyleModel",
      "state": {
       "_model_module": "@jupyter-widgets/controls",
       "_model_module_version": "1.5.0",
       "_model_name": "ProgressStyleModel",
       "_view_count": null,
       "_view_module": "@jupyter-widgets/base",
       "_view_module_version": "1.2.0",
       "_view_name": "StyleView",
       "bar_color": null,
       "description_width": ""
      }
     },
     "9671598d2041419cb97875213fd781be": {
      "model_module": "@jupyter-widgets/base",
      "model_module_version": "1.2.0",
      "model_name": "LayoutModel",
      "state": {
       "_model_module": "@jupyter-widgets/base",
       "_model_module_version": "1.2.0",
       "_model_name": "LayoutModel",
       "_view_count": null,
       "_view_module": "@jupyter-widgets/base",
       "_view_module_version": "1.2.0",
       "_view_name": "LayoutView",
       "align_content": null,
       "align_items": null,
       "align_self": null,
       "border": null,
       "bottom": null,
       "display": null,
       "flex": null,
       "flex_flow": null,
       "grid_area": null,
       "grid_auto_columns": null,
       "grid_auto_flow": null,
       "grid_auto_rows": null,
       "grid_column": null,
       "grid_gap": null,
       "grid_row": null,
       "grid_template_areas": null,
       "grid_template_columns": null,
       "grid_template_rows": null,
       "height": null,
       "justify_content": null,
       "justify_items": null,
       "left": null,
       "margin": null,
       "max_height": null,
       "max_width": null,
       "min_height": null,
       "min_width": null,
       "object_fit": null,
       "object_position": null,
       "order": null,
       "overflow": null,
       "overflow_x": null,
       "overflow_y": null,
       "padding": null,
       "right": null,
       "top": null,
       "visibility": null,
       "width": null
      }
     },
     "97fc7e2c5f024c0286e69712b5360a2d": {
      "model_module": "@jupyter-widgets/controls",
      "model_module_version": "1.5.0",
      "model_name": "HTMLModel",
      "state": {
       "_dom_classes": [],
       "_model_module": "@jupyter-widgets/controls",
       "_model_module_version": "1.5.0",
       "_model_name": "HTMLModel",
       "_view_count": null,
       "_view_module": "@jupyter-widgets/controls",
       "_view_module_version": "1.5.0",
       "_view_name": "HTMLView",
       "description": "",
       "description_tooltip": null,
       "layout": "IPY_MODEL_afa6031b26eb4912824d5e50d3cabdb5",
       "placeholder": "​",
       "style": "IPY_MODEL_1ebd375af7e14536bddfa07983b31d55",
       "value": " 399/399 [05:30&lt;00:00,  1.22it/s]"
      }
     },
     "9a51826aa8554d25ba0d99e0181422ee": {
      "model_module": "@jupyter-widgets/controls",
      "model_module_version": "1.5.0",
      "model_name": "HTMLModel",
      "state": {
       "_dom_classes": [],
       "_model_module": "@jupyter-widgets/controls",
       "_model_module_version": "1.5.0",
       "_model_name": "HTMLModel",
       "_view_count": null,
       "_view_module": "@jupyter-widgets/controls",
       "_view_module_version": "1.5.0",
       "_view_name": "HTMLView",
       "description": "",
       "description_tooltip": null,
       "layout": "IPY_MODEL_7241ec3aaf0549e49c3d54540b81f901",
       "placeholder": "​",
       "style": "IPY_MODEL_d77bab50692d48578a4408dc79d2307f",
       "value": "100%"
      }
     },
     "afa6031b26eb4912824d5e50d3cabdb5": {
      "model_module": "@jupyter-widgets/base",
      "model_module_version": "1.2.0",
      "model_name": "LayoutModel",
      "state": {
       "_model_module": "@jupyter-widgets/base",
       "_model_module_version": "1.2.0",
       "_model_name": "LayoutModel",
       "_view_count": null,
       "_view_module": "@jupyter-widgets/base",
       "_view_module_version": "1.2.0",
       "_view_name": "LayoutView",
       "align_content": null,
       "align_items": null,
       "align_self": null,
       "border": null,
       "bottom": null,
       "display": null,
       "flex": null,
       "flex_flow": null,
       "grid_area": null,
       "grid_auto_columns": null,
       "grid_auto_flow": null,
       "grid_auto_rows": null,
       "grid_column": null,
       "grid_gap": null,
       "grid_row": null,
       "grid_template_areas": null,
       "grid_template_columns": null,
       "grid_template_rows": null,
       "height": null,
       "justify_content": null,
       "justify_items": null,
       "left": null,
       "margin": null,
       "max_height": null,
       "max_width": null,
       "min_height": null,
       "min_width": null,
       "object_fit": null,
       "object_position": null,
       "order": null,
       "overflow": null,
       "overflow_x": null,
       "overflow_y": null,
       "padding": null,
       "right": null,
       "top": null,
       "visibility": null,
       "width": null
      }
     },
     "b11eaf94fee04105b2ee424ce1e6eb3a": {
      "model_module": "@jupyter-widgets/controls",
      "model_module_version": "1.5.0",
      "model_name": "HTMLModel",
      "state": {
       "_dom_classes": [],
       "_model_module": "@jupyter-widgets/controls",
       "_model_module_version": "1.5.0",
       "_model_name": "HTMLModel",
       "_view_count": null,
       "_view_module": "@jupyter-widgets/controls",
       "_view_module_version": "1.5.0",
       "_view_name": "HTMLView",
       "description": "",
       "description_tooltip": null,
       "layout": "IPY_MODEL_17dfbdddc8b5453786d845d62bfc65f9",
       "placeholder": "​",
       "style": "IPY_MODEL_2a4ccef4f6a3493a9edf01b793128a97",
       "value": "100%"
      }
     },
     "b41fc406d88a4d76bb5597d06d6d68ed": {
      "model_module": "@jupyter-widgets/controls",
      "model_module_version": "1.5.0",
      "model_name": "FloatProgressModel",
      "state": {
       "_dom_classes": [],
       "_model_module": "@jupyter-widgets/controls",
       "_model_module_version": "1.5.0",
       "_model_name": "FloatProgressModel",
       "_view_count": null,
       "_view_module": "@jupyter-widgets/controls",
       "_view_module_version": "1.5.0",
       "_view_name": "ProgressView",
       "bar_style": "success",
       "description": "",
       "description_tooltip": null,
       "layout": "IPY_MODEL_1ae3da08dde740928dd9541298943784",
       "max": 14212972.0,
       "min": 0.0,
       "orientation": "horizontal",
       "style": "IPY_MODEL_9322f378f9c94e17bab13b7322e8f618",
       "value": 14212972.0
      }
     },
     "d77bab50692d48578a4408dc79d2307f": {
      "model_module": "@jupyter-widgets/controls",
      "model_module_version": "1.5.0",
      "model_name": "DescriptionStyleModel",
      "state": {
       "_model_module": "@jupyter-widgets/controls",
       "_model_module_version": "1.5.0",
       "_model_name": "DescriptionStyleModel",
       "_view_count": null,
       "_view_module": "@jupyter-widgets/base",
       "_view_module_version": "1.2.0",
       "_view_name": "StyleView",
       "description_width": ""
      }
     },
     "e5acb6c8135f4073ab0b124f3504dedf": {
      "model_module": "@jupyter-widgets/base",
      "model_module_version": "1.2.0",
      "model_name": "LayoutModel",
      "state": {
       "_model_module": "@jupyter-widgets/base",
       "_model_module_version": "1.2.0",
       "_model_name": "LayoutModel",
       "_view_count": null,
       "_view_module": "@jupyter-widgets/base",
       "_view_module_version": "1.2.0",
       "_view_name": "LayoutView",
       "align_content": null,
       "align_items": null,
       "align_self": null,
       "border": null,
       "bottom": null,
       "display": null,
       "flex": null,
       "flex_flow": null,
       "grid_area": null,
       "grid_auto_columns": null,
       "grid_auto_flow": null,
       "grid_auto_rows": null,
       "grid_column": null,
       "grid_gap": null,
       "grid_row": null,
       "grid_template_areas": null,
       "grid_template_columns": null,
       "grid_template_rows": null,
       "height": null,
       "justify_content": null,
       "justify_items": null,
       "left": null,
       "margin": null,
       "max_height": null,
       "max_width": null,
       "min_height": null,
       "min_width": null,
       "object_fit": null,
       "object_position": null,
       "order": null,
       "overflow": null,
       "overflow_x": null,
       "overflow_y": null,
       "padding": null,
       "right": null,
       "top": null,
       "visibility": null,
       "width": null
      }
     }
    },
    "version_major": 2,
    "version_minor": 0
   }
  }
 },
 "nbformat": 4,
 "nbformat_minor": 5
}
